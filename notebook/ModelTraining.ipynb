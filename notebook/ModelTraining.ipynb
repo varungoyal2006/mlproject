{
 "cells": [
  {
   "cell_type": "code",
   "execution_count": 25,
   "id": "0d013334",
   "metadata": {},
   "outputs": [],
   "source": [
    "import numpy as np \n",
    "import pandas as pd\n",
    "import matplotlib.pyplot as plt\n",
    "import seaborn as sns \n",
    "#For Modelling \n",
    "from sklearn.metrics import mean_squared_error, r2_score, mean_absolute_error\n",
    "from sklearn.neighbors import KNeighborsRegressor\n",
    "from sklearn.tree import DecisionTreeRegressor \n",
    "from sklearn.ensemble import RandomForestRegressor, AdaBoostRegressor \n",
    "from sklearn.svm import SVR \n",
    "from sklearn.linear_model import LinearRegression, Ridge, Lasso \n",
    "from sklearn.model_selection import RandomizedSearchCV\n",
    "from catboost import CatBoostRegressor \n",
    "from xgboost import XGBRegressor \n",
    "import warnings \n",
    "warnings.filterwarnings('ignore')"
   ]
  },
  {
   "cell_type": "code",
   "execution_count": 26,
   "id": "9a42bfc2",
   "metadata": {},
   "outputs": [],
   "source": [
    "df = pd.read_csv(\"data/StudentsPerformance.csv\")"
   ]
  },
  {
   "cell_type": "code",
   "execution_count": 27,
   "id": "eb7d5f2f",
   "metadata": {},
   "outputs": [],
   "source": [
    "X = df.drop(columns = ['math score'])"
   ]
  },
  {
   "cell_type": "code",
   "execution_count": 28,
   "id": "5fe862a9",
   "metadata": {},
   "outputs": [],
   "source": [
    "y = df['math score']"
   ]
  },
  {
   "cell_type": "code",
   "execution_count": 29,
   "id": "374ce0f5",
   "metadata": {},
   "outputs": [],
   "source": [
    "num_features = X.select_dtypes(exclude = 'object').columns\n",
    "cat_features = X.select_dtypes(include = 'object').columns \n",
    "\n",
    "from sklearn.preprocessing import OneHotEncoder, StandardScaler\n",
    "from sklearn.compose import ColumnTransformer\n",
    "oh_transformer = OneHotEncoder()\n",
    "numeric_transformer = StandardScaler() \n",
    "\n",
    "preprocessor = ColumnTransformer(\n",
    "\t[\n",
    "\t\t(\"OneHotEncoder\", oh_transformer, cat_features), \n",
    "\t\t(\"StandardScaler\", numeric_transformer, num_features)\n",
    "\t], remainder = 'passthrough'\n",
    ")\n"
   ]
  },
  {
   "cell_type": "code",
   "execution_count": 33,
   "id": "cea67214",
   "metadata": {},
   "outputs": [],
   "source": [
    "X = preprocessor.fit_transform(X)"
   ]
  },
  {
   "cell_type": "code",
   "execution_count": 48,
   "id": "0e9095e1",
   "metadata": {},
   "outputs": [],
   "source": [
    "from sklearn.model_selection import train_test_split\n",
    "X_train, X_test, y_train, y_test = train_test_split(X, y, test_size = 0.25, random_state = 42)"
   ]
  },
  {
   "cell_type": "code",
   "execution_count": 51,
   "id": "459fb57e",
   "metadata": {},
   "outputs": [
    {
     "data": {
      "text/plain": [
       "(250,)"
      ]
     },
     "execution_count": 51,
     "metadata": {},
     "output_type": "execute_result"
    }
   ],
   "source": [
    "y_test.shape"
   ]
  },
  {
   "cell_type": "markdown",
   "id": "2aa7a1ca",
   "metadata": {},
   "source": [
    "# Create Evaluation Function to give the total metrics score"
   ]
  },
  {
   "cell_type": "code",
   "execution_count": 44,
   "id": "3e12af97",
   "metadata": {},
   "outputs": [],
   "source": [
    "def evaluate(y_test, y_pred):\n",
    "\tprint(\"Mean Absolute Error: \", mean_absolute_error(y_test, y_pred))\n",
    "\tprint('Mean Squared Error: ', mean_squared_error(y_test, y_pred))\n",
    "\tprint(\"R2 Score: \", r2_score(y_test, y_pred))"
   ]
  },
  {
   "cell_type": "code",
   "execution_count": 47,
   "id": "3af98ab2",
   "metadata": {},
   "outputs": [
    {
     "data": {
      "text/plain": [
       "(250, 19)"
      ]
     },
     "execution_count": 47,
     "metadata": {},
     "output_type": "execute_result"
    }
   ],
   "source": [
    "X_test.shape"
   ]
  },
  {
   "cell_type": "code",
   "execution_count": 53,
   "id": "99eea602",
   "metadata": {},
   "outputs": [
    {
     "name": "stdout",
     "output_type": "stream",
     "text": [
      "Model : Linear Regression \n",
      "Training Accuracy\n",
      "Mean Absolute Error:  4.263333333333334\n",
      "Mean Squared Error:  28.230541666666667\n",
      "R2 Score:  0.8735127274929041\n",
      "___________________________\n",
      "Testing Accuracy\n",
      "Mean Absolute Error:  4.323\n",
      "Mean Squared Error:  29.781\n",
      "R2 Score:  0.8789506844901639\n",
      "___________________________\n",
      "Model : Lasso \n",
      "Training Accuracy\n",
      "Mean Absolute Error:  5.1837328384070265\n",
      "Mean Squared Error:  42.92226969117584\n",
      "R2 Score:  0.8076862680441843\n",
      "___________________________\n",
      "Testing Accuracy\n",
      "Mean Absolute Error:  5.2217100046729215\n",
      "Mean Squared Error:  44.27752059355696\n",
      "R2 Score:  0.8200274147838306\n",
      "___________________________\n",
      "Model : Ridge \n",
      "Training Accuracy\n",
      "Mean Absolute Error:  4.236822709293622\n",
      "Mean Squared Error:  28.06418045343843\n",
      "R2 Score:  0.8742581108568038\n",
      "___________________________\n",
      "Testing Accuracy\n",
      "Mean Absolute Error:  4.3353724193882295\n",
      "Mean Squared Error:  30.017315591232386\n",
      "R2 Score:  0.8779901445296864\n",
      "___________________________\n",
      "Model : K-Neighbors Regressor \n",
      "Training Accuracy\n",
      "Mean Absolute Error:  4.586133333333334\n",
      "Mean Squared Error:  33.54624\n",
      "R2 Score:  0.8496956788654685\n",
      "___________________________\n",
      "Testing Accuracy\n",
      "Mean Absolute Error:  5.5208\n",
      "Mean Squared Error:  50.876\n",
      "R2 Score:  0.793206911256223\n",
      "___________________________\n",
      "Model : Decision Tree \n",
      "Training Accuracy\n",
      "Mean Absolute Error:  0.02\n",
      "Mean Squared Error:  0.08333333333333333\n",
      "R2 Score:  0.9996266240241963\n",
      "___________________________\n",
      "Testing Accuracy\n",
      "Mean Absolute Error:  6.092\n",
      "Mean Squared Error:  60.324\n",
      "R2 Score:  0.7548041063491705\n",
      "___________________________\n",
      "Model : Random Forest Regressor \n",
      "Training Accuracy\n",
      "Mean Absolute Error:  1.8160166666666664\n",
      "Mean Squared Error:  5.200844815627361\n",
      "R2 Score:  0.9766975539035397\n",
      "___________________________\n",
      "Testing Accuracy\n",
      "Mean Absolute Error:  4.715699999999999\n",
      "Mean Squared Error:  37.060611566666665\n",
      "R2 Score:  0.8493616177253647\n",
      "___________________________\n",
      "Model : CatBoosting Regressor \n",
      "Training Accuracy\n",
      "Mean Absolute Error:  2.322147793524523\n",
      "Mean Squared Error:  8.669745414090325\n",
      "R2 Score:  0.961155104152535\n",
      "___________________________\n",
      "Testing Accuracy\n",
      "Mean Absolute Error:  4.650802242582823\n",
      "Mean Squared Error:  35.71537891206022\n",
      "R2 Score:  0.8548295164541377\n",
      "___________________________\n",
      "Model : Adaboost Regressor \n",
      "Training Accuracy\n",
      "Mean Absolute Error:  4.64752942754046\n",
      "Mean Squared Error:  32.76826047669799\n",
      "R2 Score:  0.8531814252294865\n",
      "___________________________\n",
      "Testing Accuracy\n",
      "Mean Absolute Error:  4.690308519448564\n",
      "Mean Squared Error:  37.61060858824915\n",
      "R2 Score:  0.8471260728143473\n",
      "___________________________\n"
     ]
    }
   ],
   "source": [
    "models = {\n",
    "\t'Linear Regression' : LinearRegression(), \n",
    "\t'Lasso' : Lasso(), \n",
    "\t'Ridge' : Ridge(), \n",
    "\t'K-Neighbors Regressor' : KNeighborsRegressor(), \n",
    "\t'Decision Tree' : DecisionTreeRegressor(), \n",
    "\t'Random Forest Regressor' : RandomForestRegressor(), \n",
    "\t'CatBoosting Regressor' : CatBoostRegressor(verbose = False), \n",
    "\t'Adaboost Regressor' : AdaBoostRegressor()\n",
    "}\n",
    "\n",
    "for name, model in models.items() : \n",
    "\tmodel.fit(X_train, y_train) \n",
    "\tX_pred = model.predict(X_train)\n",
    "\ty_pred = model.predict(X_test)\n",
    "\n",
    "\tprint(\"Model : {} \".format(name))\n",
    "\tprint(\"Training Accuracy\")\n",
    "\tevaluate(y_train, X_pred)\n",
    "\tprint(\"___________________________\")\n",
    "\tprint(\"Testing Accuracy\")\n",
    "\tevaluate(y_test, y_pred)\n",
    "\tprint(\"___________________________\")\n",
    "\n"
   ]
  },
  {
   "cell_type": "code",
   "execution_count": 54,
   "id": "b8b4baae",
   "metadata": {},
   "outputs": [
    {
     "name": "stdout",
     "output_type": "stream",
     "text": [
      "The accuracy of model is 87.90\n"
     ]
    }
   ],
   "source": [
    "lin_model = LinearRegression(fit_intercept = True)\n",
    "lin_model = lin_model.fit(X_train, y_train)\n",
    "y_pred = lin_model.predict(X_test)\n",
    "score = r2_score(y_test, y_pred) * 100\n",
    "print(\"The accuracy of model is %.2f\" %score)"
   ]
  },
  {
   "cell_type": "code",
   "execution_count": 57,
   "id": "9a1a441b",
   "metadata": {},
   "outputs": [
    {
     "data": {
      "text/plain": [
       "[<matplotlib.lines.Line2D at 0x180eb8e7820>]"
      ]
     },
     "execution_count": 57,
     "metadata": {},
     "output_type": "execute_result"
    },
    {
     "data": {
      "image/png": "[encoded data removed]",
      "text/plain": [
       "<Figure size 640x480 with 1 Axes>"
      ]
     },
     "metadata": {},
     "output_type": "display_data"
    }
   ],
   "source": [
    "sns.scatterplot(x = y_test, y = y_pred)\n",
    "plt.plot([y_test.min(), y_test.max()], [y_test.min(), y_test.max()], \n",
    "'r--')"
   ]
  },
  {
   "cell_type": "code",
   "execution_count": null,
   "id": "9677bcf1",
   "metadata": {},
   "outputs": [],
   "source": []
  }
 ],
 "metadata": {
  "kernelspec": {
   "display_name": "venv",
   "language": "python",
   "name": "python3"
  },
  "language_info": {
   "codemirror_mode": {
    "name": "ipython",
    "version": 3
   },
   "file_extension": ".py",
   "mimetype": "text/x-python",
   "name": "python",
   "nbconvert_exporter": "python",
   "pygments_lexer": "ipython3",
   "version": "3.8.0"
  }
 },
 "nbformat": 4,
 "nbformat_minor": 5
}
